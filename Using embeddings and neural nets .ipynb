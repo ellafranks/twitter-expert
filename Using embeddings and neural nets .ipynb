{
 "cells": [
  {
   "cell_type": "code",
   "execution_count": 229,
   "metadata": {
    "ExecuteTime": {
     "end_time": "2021-01-29T14:21:55.040151Z",
     "start_time": "2021-01-29T14:21:54.971122Z"
    }
   },
   "outputs": [],
   "source": [
    "import json\n",
    "\n",
    "import pandas as pd\n",
    "import numpy as np\n",
    "\n",
    "import string\n",
    "\n",
    "import seaborn as sns\n",
    "import matplotlib.pyplot as plt\n",
    "\n",
    "from sklearn.model_selection import train_test_split\n",
    "\n",
    "from keras.preprocessing.text import one_hot\n",
    "from keras.preprocessing.sequence import pad_sequences\n",
    "from keras.models import Sequential\n",
    "from keras.models import load_model\n",
    "from keras.layers import Dense\n",
    "from keras.layers import Flatten\n",
    "from keras.layers import Conv1D, GlobalMaxPooling1D, MaxPooling1D\n",
    "from keras.layers.embeddings import Embedding\n",
    "from keras.preprocessing.text import Tokenizer\n",
    "from keras.callbacks import EarlyStopping\n",
    "\n",
    "from nltk.tokenize import word_tokenize\n",
    "\n",
    "from numpy import array\n",
    "from numpy import asarray\n",
    "from numpy import zeros"
   ]
  },
  {
   "cell_type": "code",
   "execution_count": 262,
   "metadata": {
    "ExecuteTime": {
     "end_time": "2021-01-29T14:41:48.865509Z",
     "start_time": "2021-01-29T14:41:48.860562Z"
    }
   },
   "outputs": [],
   "source": [
    "import warnings\n",
    "warnings.filterwarnings(\"ignore\")"
   ]
  },
  {
   "cell_type": "code",
   "execution_count": 290,
   "metadata": {
    "ExecuteTime": {
     "end_time": "2021-01-29T14:56:41.656837Z",
     "start_time": "2021-01-29T14:56:41.289673Z"
    }
   },
   "outputs": [],
   "source": [
    "df = pd.read_csv('attempt_1.csv',index_col=0)"
   ]
  },
  {
   "cell_type": "markdown",
   "metadata": {},
   "source": [
    "----"
   ]
  },
  {
   "cell_type": "markdown",
   "metadata": {},
   "source": [
    "### Preparing data"
   ]
  },
  {
   "cell_type": "code",
   "execution_count": 286,
   "metadata": {
    "ExecuteTime": {
     "end_time": "2021-01-29T14:56:19.053057Z",
     "start_time": "2021-01-29T14:56:19.047007Z"
    }
   },
   "outputs": [],
   "source": [
    "def clean(x):\n",
    "    return ''.join([i.lower().strip('\\n') for i in x if i not in string.punctuation])"
   ]
  },
  {
   "cell_type": "code",
   "execution_count": 291,
   "metadata": {
    "ExecuteTime": {
     "end_time": "2021-01-29T14:56:46.336327Z",
     "start_time": "2021-01-29T14:56:46.316081Z"
    }
   },
   "outputs": [],
   "source": [
    "y_array = array([col for col in df['expert']])"
   ]
  },
  {
   "cell_type": "code",
   "execution_count": 297,
   "metadata": {
    "ExecuteTime": {
     "end_time": "2021-01-29T14:59:44.844882Z",
     "start_time": "2021-01-29T14:59:43.730213Z"
    }
   },
   "outputs": [],
   "source": [
    "df['full_text'] = df['full_text'].apply(clean)"
   ]
  },
  {
   "cell_type": "code",
   "execution_count": 306,
   "metadata": {
    "ExecuteTime": {
     "end_time": "2021-01-29T15:02:51.710118Z",
     "start_time": "2021-01-29T15:02:51.695867Z"
    }
   },
   "outputs": [],
   "source": [
    "X_tr, X_te, y_train, y_test = train_test_split(\n",
    "                                    df['full_text'], y_array, test_size=0.2, random_state=0, shuffle=True)"
   ]
  },
  {
   "cell_type": "code",
   "execution_count": 307,
   "metadata": {
    "ExecuteTime": {
     "end_time": "2021-01-29T15:02:54.830777Z",
     "start_time": "2021-01-29T15:02:54.825658Z"
    }
   },
   "outputs": [],
   "source": [
    "X_train = (X_tr).to_list()\n",
    "X_test = (X_te).to_list()"
   ]
  },
  {
   "cell_type": "markdown",
   "metadata": {},
   "source": [
    "----"
   ]
  },
  {
   "cell_type": "markdown",
   "metadata": {},
   "source": [
    "### Now, going to use a pre training GloVe embedding "
   ]
  },
  {
   "cell_type": "code",
   "execution_count": 154,
   "metadata": {
    "ExecuteTime": {
     "end_time": "2021-01-29T12:36:30.762403Z",
     "start_time": "2021-01-29T12:36:29.821857Z"
    }
   },
   "outputs": [],
   "source": [
    "word_tokenizer = Tokenizer()\n",
    "word_tokenizer.fit_on_texts(X_train)"
   ]
  },
  {
   "cell_type": "code",
   "execution_count": 155,
   "metadata": {
    "ExecuteTime": {
     "end_time": "2021-01-29T12:36:52.879860Z",
     "start_time": "2021-01-29T12:36:52.184626Z"
    }
   },
   "outputs": [],
   "source": [
    "embedded_sentences_train = word_tokenizer.texts_to_sequences(X_train)\n",
    "embedded_sentences_test = word_tokenizer.texts_to_sequences(X_test)"
   ]
  },
  {
   "cell_type": "code",
   "execution_count": 156,
   "metadata": {
    "ExecuteTime": {
     "end_time": "2021-01-29T12:36:59.284121Z",
     "start_time": "2021-01-29T12:36:59.275169Z"
    }
   },
   "outputs": [
    {
     "data": {
      "text/plain": [
       "65077"
      ]
     },
     "execution_count": 156,
     "metadata": {},
     "output_type": "execute_result"
    }
   ],
   "source": [
    "vocab_length = len(word_tokenizer.word_index) + 1"
   ]
  },
  {
   "cell_type": "code",
   "execution_count": 157,
   "metadata": {
    "ExecuteTime": {
     "end_time": "2021-01-29T12:37:13.035103Z",
     "start_time": "2021-01-29T12:37:11.740325Z"
    }
   },
   "outputs": [
    {
     "name": "stderr",
     "output_type": "stream",
     "text": [
      "/Users/ella.franks/opt/anaconda3/envs/tweepy_expert/lib/python3.8/site-packages/seaborn/distributions.py:2557: FutureWarning: `distplot` is a deprecated function and will be removed in a future version. Please adapt your code to use either `displot` (a figure-level function with similar flexibility) or `histplot` (an axes-level function for histograms).\n",
      "  warnings.warn(msg, FutureWarning)\n"
     ]
    },
    {
     "data": {
      "image/png": "[encoded data removed]",
      "text/plain": [
       "<Figure size 432x288 with 1 Axes>"
      ]
     },
     "metadata": {
      "needs_background": "light"
     },
     "output_type": "display_data"
    }
   ],
   "source": [
    "sns.distplot(([len(c.split(' ')) for c in corpus]));"
   ]
  },
  {
   "cell_type": "code",
   "execution_count": 158,
   "metadata": {
    "ExecuteTime": {
     "end_time": "2021-01-29T12:38:08.677649Z",
     "start_time": "2021-01-29T12:38:08.670695Z"
    }
   },
   "outputs": [],
   "source": [
    "length_long_sentence = 60 "
   ]
  },
  {
   "cell_type": "code",
   "execution_count": 159,
   "metadata": {
    "ExecuteTime": {
     "end_time": "2021-01-29T12:38:32.701647Z",
     "start_time": "2021-01-29T12:38:32.498038Z"
    }
   },
   "outputs": [],
   "source": [
    "padded_sentences_train = pad_sequences(embedded_sentences_train, length_long_sentence, padding='post')\n",
    "padded_sentences_test = pad_sequences(embedded_sentences_test, length_long_sentence, padding='post')"
   ]
  },
  {
   "cell_type": "code",
   "execution_count": 160,
   "metadata": {
    "ExecuteTime": {
     "end_time": "2021-01-29T12:38:58.697066Z",
     "start_time": "2021-01-29T12:38:46.256234Z"
    }
   },
   "outputs": [],
   "source": [
    "embeddings_dictionary = dict()\n",
    "glove_file = open('/Users/ella.franks/Desktop/Projects/Datasets/glove.6B/glove.6B.100d.txt', encoding=\"utf8\")\n",
    "\n",
    "for line in glove_file:\n",
    "    records = line.split()\n",
    "    word = records[0]\n",
    "    vector_dimensions = asarray(records[1:], dtype='float32')\n",
    "    embeddings_dictionary [word] = vector_dimensions\n",
    "\n",
    "glove_file.close()"
   ]
  },
  {
   "cell_type": "code",
   "execution_count": 161,
   "metadata": {
    "ExecuteTime": {
     "end_time": "2021-01-29T12:39:17.905428Z",
     "start_time": "2021-01-29T12:39:17.784560Z"
    }
   },
   "outputs": [],
   "source": [
    "embedding_matrix = zeros((vocab_length, 100))\n",
    "for word, index in word_tokenizer.word_index.items():\n",
    "    embedding_vector = embeddings_dictionary.get(word)\n",
    "    if embedding_vector is not None:\n",
    "        embedding_matrix[index] = embedding_vector"
   ]
  },
  {
   "cell_type": "markdown",
   "metadata": {},
   "source": [
    "---"
   ]
  },
  {
   "cell_type": "markdown",
   "metadata": {},
   "source": [
    "### Run a CNN to determine whether a tweet has been written by a tech expert or not"
   ]
  },
  {
   "cell_type": "markdown",
   "metadata": {},
   "source": [
    "- STILL NEED TO TWEAK THE PARAMETERS "
   ]
  },
  {
   "cell_type": "code",
   "execution_count": 204,
   "metadata": {
    "ExecuteTime": {
     "end_time": "2021-01-29T13:23:50.453037Z",
     "start_time": "2021-01-29T13:23:50.131943Z"
    }
   },
   "outputs": [],
   "source": [
    "model = Sequential()\n",
    "embedding_layer = Embedding(vocab_length, 100, weights=[embedding_matrix], input_length=length_long_sentence, trainable=False)\n",
    "model.add(embedding_layer)\n",
    "# model.add(Flatten())\n",
    "model.add(Conv1D(64, 5, activation='relu'))\n",
    "model.add(GlobalMaxPooling1D())\n",
    "model.add(Dense(64, activation='relu'))\n",
    "model.add(Dense(1, activation='sigmoid'))"
   ]
  },
  {
   "cell_type": "code",
   "execution_count": 205,
   "metadata": {
    "ExecuteTime": {
     "end_time": "2021-01-29T13:23:50.584728Z",
     "start_time": "2021-01-29T13:23:50.494240Z"
    }
   },
   "outputs": [
    {
     "name": "stdout",
     "output_type": "stream",
     "text": [
      "Model: \"sequential_11\"\n",
      "_________________________________________________________________\n",
      "Layer (type)                 Output Shape              Param #   \n",
      "=================================================================\n",
      "embedding_11 (Embedding)     (None, 60, 100)           6507700   \n",
      "_________________________________________________________________\n",
      "conv1d_12 (Conv1D)           (None, 56, 64)            32064     \n",
      "_________________________________________________________________\n",
      "global_max_pooling1d_11 (Glo (None, 64)                0         \n",
      "_________________________________________________________________\n",
      "dense_22 (Dense)             (None, 64)                4160      \n",
      "_________________________________________________________________\n",
      "dense_23 (Dense)             (None, 1)                 65        \n",
      "=================================================================\n",
      "Total params: 6,543,989\n",
      "Trainable params: 36,289\n",
      "Non-trainable params: 6,507,700\n",
      "_________________________________________________________________\n",
      "None\n"
     ]
    }
   ],
   "source": [
    "model.compile(optimizer='adam', loss='binary_crossentropy', metrics=['acc'])\n",
    "print(model.summary())"
   ]
  },
  {
   "cell_type": "code",
   "execution_count": 206,
   "metadata": {
    "ExecuteTime": {
     "end_time": "2021-01-29T13:23:50.990046Z",
     "start_time": "2021-01-29T13:23:50.979458Z"
    }
   },
   "outputs": [],
   "source": [
    "custom_early_stopping = EarlyStopping(\n",
    "                        monitor='val_acc', \n",
    "                        patience=3, \n",
    "                        min_delta=0.001)"
   ]
  },
  {
   "cell_type": "code",
   "execution_count": 208,
   "metadata": {
    "ExecuteTime": {
     "end_time": "2021-01-29T13:24:08.731844Z",
     "start_time": "2021-01-29T13:23:55.447922Z"
    }
   },
   "outputs": [
    {
     "name": "stdout",
     "output_type": "stream",
     "text": [
      "Epoch 1/20\n",
      "16/16 [==============================] - 2s 74ms/step - loss: 0.6211 - acc: 0.6596 - val_loss: 0.5373 - val_acc: 0.7256\n",
      "Epoch 2/20\n",
      "16/16 [==============================] - 1s 52ms/step - loss: 0.4993 - acc: 0.7608 - val_loss: 0.4543 - val_acc: 0.8132\n",
      "Epoch 3/20\n",
      "16/16 [==============================] - 1s 49ms/step - loss: 0.4339 - acc: 0.8103 - val_loss: 0.3561 - val_acc: 0.8449\n",
      "Epoch 4/20\n",
      "16/16 [==============================] - 1s 78ms/step - loss: 0.3482 - acc: 0.8422 - val_loss: 0.3207 - val_acc: 0.8530\n",
      "Epoch 5/20\n",
      "16/16 [==============================] - 1s 58ms/step - loss: 0.3326 - acc: 0.8527 - val_loss: 0.3067 - val_acc: 0.8599\n",
      "Epoch 6/20\n",
      "16/16 [==============================] - 1s 54ms/step - loss: 0.2971 - acc: 0.8607 - val_loss: 0.2888 - val_acc: 0.8669\n",
      "Epoch 7/20\n",
      "16/16 [==============================] - 1s 54ms/step - loss: 0.3345 - acc: 0.8542 - val_loss: 0.2847 - val_acc: 0.8685\n",
      "Epoch 8/20\n",
      "16/16 [==============================] - 1s 64ms/step - loss: 0.2720 - acc: 0.8839 - val_loss: 0.2777 - val_acc: 0.8722\n",
      "Epoch 9/20\n",
      "16/16 [==============================] - 1s 57ms/step - loss: 0.2469 - acc: 0.8738 - val_loss: 0.2754 - val_acc: 0.8726\n",
      "Epoch 10/20\n",
      "16/16 [==============================] - 1s 60ms/step - loss: 0.2169 - acc: 0.9086 - val_loss: 0.2717 - val_acc: 0.8766\n",
      "Epoch 11/20\n",
      "16/16 [==============================] - 1s 60ms/step - loss: 0.2988 - acc: 0.8667 - val_loss: 0.2798 - val_acc: 0.8685\n",
      "Epoch 12/20\n",
      "16/16 [==============================] - 1s 54ms/step - loss: 0.2982 - acc: 0.8715 - val_loss: 0.2658 - val_acc: 0.8775\n",
      "Epoch 13/20\n",
      "16/16 [==============================] - 1s 61ms/step - loss: 0.2604 - acc: 0.8734 - val_loss: 0.2722 - val_acc: 0.8756\n"
     ]
    },
    {
     "data": {
      "text/plain": [
       "<tensorflow.python.keras.callbacks.History at 0x7ff823698130>"
      ]
     },
     "execution_count": 208,
     "metadata": {},
     "output_type": "execute_result"
    }
   ],
   "source": [
    "model.fit(padded_sentences_train, \n",
    "          y_train, \n",
    "          epochs=20,\n",
    "          batch_size = 64,\n",
    "          steps_per_epoch = 16,\n",
    "          verbose=1, \n",
    "          validation_split=0.2, \n",
    "          callbacks=[custom_early_stopping])"
   ]
  },
  {
   "cell_type": "code",
   "execution_count": 209,
   "metadata": {
    "ExecuteTime": {
     "end_time": "2021-01-29T13:24:13.670618Z",
     "start_time": "2021-01-29T13:24:13.664377Z"
    }
   },
   "outputs": [],
   "source": [
    "def plot_history(train, test):\n",
    "    plt.plot(model.history.history[train], label='train') \n",
    "    plt.plot(model.history.history[test], label='test') \n",
    "    plt.legend() \n",
    "    plt.show()"
   ]
  },
  {
   "cell_type": "code",
   "execution_count": 210,
   "metadata": {
    "ExecuteTime": {
     "end_time": "2021-01-29T13:24:14.938797Z",
     "start_time": "2021-01-29T13:24:14.049123Z"
    }
   },
   "outputs": [
    {
     "data": {
      "image/png": "[encoded data removed]",
      "text/plain": [
       "<Figure size 432x288 with 1 Axes>"
      ]
     },
     "metadata": {
      "needs_background": "light"
     },
     "output_type": "display_data"
    },
    {
     "data": {
      "image/png": "[encoded data removed]",
      "text/plain": [
       "<Figure size 432x288 with 1 Axes>"
      ]
     },
     "metadata": {
      "needs_background": "light"
     },
     "output_type": "display_data"
    }
   ],
   "source": [
    "plot_history('loss', 'val_loss'), plot_history('acc', 'val_acc');"
   ]
  },
  {
   "cell_type": "code",
   "execution_count": 211,
   "metadata": {
    "ExecuteTime": {
     "end_time": "2021-01-29T13:27:36.611873Z",
     "start_time": "2021-01-29T13:27:35.022249Z"
    }
   },
   "outputs": [
    {
     "name": "stdout",
     "output_type": "stream",
     "text": [
      "INFO:tensorflow:Assets written to: 1st_model/assets\n"
     ]
    }
   ],
   "source": [
    "model.save(\"1st_model\")"
   ]
  },
  {
   "cell_type": "markdown",
   "metadata": {},
   "source": [
    "---"
   ]
  },
  {
   "cell_type": "code",
   "execution_count": null,
   "metadata": {},
   "outputs": [],
   "source": [
    "#LSTM - do another model. "
   ]
  },
  {
   "cell_type": "markdown",
   "metadata": {},
   "source": [
    "---"
   ]
  },
  {
   "cell_type": "markdown",
   "metadata": {},
   "source": [
    "### Using saved model to predict on unseen test set"
   ]
  },
  {
   "cell_type": "code",
   "execution_count": 231,
   "metadata": {
    "ExecuteTime": {
     "end_time": "2021-01-29T14:22:11.284187Z",
     "start_time": "2021-01-29T14:22:10.775378Z"
    }
   },
   "outputs": [],
   "source": [
    "model_1 = load_model('1st_model')"
   ]
  },
  {
   "cell_type": "code",
   "execution_count": 308,
   "metadata": {
    "ExecuteTime": {
     "end_time": "2021-01-29T15:03:08.527495Z",
     "start_time": "2021-01-29T15:03:07.893132Z"
    }
   },
   "outputs": [
    {
     "name": "stdout",
     "output_type": "stream",
     "text": [
      "169/169 [==============================] - 1s 3ms/step - loss: 0.2686 - acc: 0.8811\n"
     ]
    },
    {
     "data": {
      "text/plain": [
       "[0.26862576603889465, 0.8810800909996033]"
      ]
     },
     "execution_count": 308,
     "metadata": {},
     "output_type": "execute_result"
    }
   ],
   "source": [
    "model_1.evaluate(padded_sentences_test, y_test)"
   ]
  },
  {
   "cell_type": "markdown",
   "metadata": {},
   "source": [
    "*Performs at 88 percent on the unseen test set*"
   ]
  },
  {
   "cell_type": "code",
   "execution_count": 368,
   "metadata": {
    "ExecuteTime": {
     "end_time": "2021-01-29T15:31:39.769394Z",
     "start_time": "2021-01-29T15:31:39.072134Z"
    }
   },
   "outputs": [],
   "source": [
    "results = pd.DataFrame({\n",
    "    'prediction':model_1.predict_classes(padded_sentences_test).max(axis=1), \n",
    "    'probability':model_1.predict(padded_sentences_test).max(axis=1), \n",
    "    'true_label':y_test,\n",
    "}, index=X_te.index)"
   ]
  },
  {
   "cell_type": "code",
   "execution_count": 369,
   "metadata": {
    "ExecuteTime": {
     "end_time": "2021-01-29T15:31:40.984160Z",
     "start_time": "2021-01-29T15:31:40.945995Z"
    }
   },
   "outputs": [],
   "source": [
    "results = pd.merge(results, df, left_index=True, right_index=True)"
   ]
  },
  {
   "cell_type": "code",
   "execution_count": 402,
   "metadata": {
    "ExecuteTime": {
     "end_time": "2021-01-29T15:45:10.362868Z",
     "start_time": "2021-01-29T15:45:10.352397Z"
    }
   },
   "outputs": [
    {
     "name": "stdout",
     "output_type": "stream",
     "text": [
      "The model wrongly classifies 643's times'\n"
     ]
    }
   ],
   "source": [
    "wrongly_classified = results[results['prediction']!=results['true_label']]\n",
    "print(\"The model wrongly classifies {}'s times'\".format(wrongly_classified.shape[0]))"
   ]
  },
  {
   "cell_type": "code",
   "execution_count": 406,
   "metadata": {
    "ExecuteTime": {
     "end_time": "2021-01-29T15:46:37.005347Z",
     "start_time": "2021-01-29T15:46:36.646443Z"
    }
   },
   "outputs": [
    {
     "data": {
      "image/png": "[encoded data removed]",
      "text/plain": [
       "<Figure size 432x288 with 1 Axes>"
      ]
     },
     "metadata": {
      "needs_background": "light"
     },
     "output_type": "display_data"
    }
   ],
   "source": [
    "wrongly_classified.probability.hist(bins=100);"
   ]
  },
  {
   "cell_type": "code",
   "execution_count": 415,
   "metadata": {
    "ExecuteTime": {
     "end_time": "2021-01-29T15:50:39.393569Z",
     "start_time": "2021-01-29T15:50:39.336750Z"
    }
   },
   "outputs": [
    {
     "data": {
      "text/html": [
       "<div>\n",
       "<style scoped>\n",
       "    .dataframe tbody tr th:only-of-type {\n",
       "        vertical-align: middle;\n",
       "    }\n",
       "\n",
       "    .dataframe tbody tr th {\n",
       "        vertical-align: top;\n",
       "    }\n",
       "\n",
       "    .dataframe thead th {\n",
       "        text-align: right;\n",
       "    }\n",
       "</style>\n",
       "<table border=\"1\" class=\"dataframe\">\n",
       "  <thead>\n",
       "    <tr style=\"text-align: right;\">\n",
       "      <th></th>\n",
       "      <th>prediction</th>\n",
       "      <th>probability</th>\n",
       "      <th>true_label</th>\n",
       "      <th>full_text</th>\n",
       "      <th>created_at</th>\n",
       "      <th>tweet_id</th>\n",
       "      <th>tweet_favourite</th>\n",
       "      <th>tweet_retweet</th>\n",
       "      <th>tweet_lang</th>\n",
       "      <th>tweet_in_reply</th>\n",
       "      <th>...</th>\n",
       "      <th>user_verified</th>\n",
       "      <th>user_follower</th>\n",
       "      <th>user_friend</th>\n",
       "      <th>user_favourite</th>\n",
       "      <th>user_status</th>\n",
       "      <th>user_listed</th>\n",
       "      <th>user_profile_image_url</th>\n",
       "      <th>user_default_profile</th>\n",
       "      <th>user_default_profile_image</th>\n",
       "      <th>expert</th>\n",
       "    </tr>\n",
       "  </thead>\n",
       "  <tbody>\n",
       "    <tr>\n",
       "      <th>21057</th>\n",
       "      <td>1</td>\n",
       "      <td>0.932479</td>\n",
       "      <td>0</td>\n",
       "      <td>i couldnt read the content but i love the head...</td>\n",
       "      <td>2021-01-20 23:22:34</td>\n",
       "      <td>1352033808204218369</td>\n",
       "      <td>27</td>\n",
       "      <td>1</td>\n",
       "      <td>en</td>\n",
       "      <td>NaN</td>\n",
       "      <td>...</td>\n",
       "      <td>0</td>\n",
       "      <td>11597</td>\n",
       "      <td>63</td>\n",
       "      <td>12237</td>\n",
       "      <td>17441</td>\n",
       "      <td>255</td>\n",
       "      <td>https://pbs.twimg.com/profile_images/352604013...</td>\n",
       "      <td>0</td>\n",
       "      <td>0</td>\n",
       "      <td>0</td>\n",
       "    </tr>\n",
       "    <tr>\n",
       "      <th>13380</th>\n",
       "      <td>1</td>\n",
       "      <td>0.709821</td>\n",
       "      <td>0</td>\n",
       "      <td>election interference twitter lets ga runoff d...</td>\n",
       "      <td>2020-12-10 21:26:45</td>\n",
       "      <td>1337146760846848002</td>\n",
       "      <td>1</td>\n",
       "      <td>1</td>\n",
       "      <td>en</td>\n",
       "      <td>NaN</td>\n",
       "      <td>...</td>\n",
       "      <td>0</td>\n",
       "      <td>27033</td>\n",
       "      <td>13057</td>\n",
       "      <td>11494</td>\n",
       "      <td>605315</td>\n",
       "      <td>356</td>\n",
       "      <td>https://pbs.twimg.com/profile_images/776457176...</td>\n",
       "      <td>0</td>\n",
       "      <td>0</td>\n",
       "      <td>0</td>\n",
       "    </tr>\n",
       "    <tr>\n",
       "      <th>151</th>\n",
       "      <td>0</td>\n",
       "      <td>0.298704</td>\n",
       "      <td>1</td>\n",
       "      <td>with another 25 million in funding julia colli...</td>\n",
       "      <td>2020-12-10 14:01:18</td>\n",
       "      <td>1337034658291310593</td>\n",
       "      <td>15</td>\n",
       "      <td>5</td>\n",
       "      <td>en</td>\n",
       "      <td>NaN</td>\n",
       "      <td>...</td>\n",
       "      <td>1</td>\n",
       "      <td>10142289</td>\n",
       "      <td>962</td>\n",
       "      <td>5858</td>\n",
       "      <td>219108</td>\n",
       "      <td>108622</td>\n",
       "      <td>https://pbs.twimg.com/profile_images/109606660...</td>\n",
       "      <td>0</td>\n",
       "      <td>0</td>\n",
       "      <td>1</td>\n",
       "    </tr>\n",
       "    <tr>\n",
       "      <th>4306</th>\n",
       "      <td>0</td>\n",
       "      <td>0.453197</td>\n",
       "      <td>1</td>\n",
       "      <td>in 2 years everyone who is 16 and 17 will be a...</td>\n",
       "      <td>2018-11-07 20:58:08</td>\n",
       "      <td>1060275229921079296</td>\n",
       "      <td>17</td>\n",
       "      <td>1</td>\n",
       "      <td>en</td>\n",
       "      <td>NaN</td>\n",
       "      <td>...</td>\n",
       "      <td>1</td>\n",
       "      <td>17394</td>\n",
       "      <td>1081</td>\n",
       "      <td>135</td>\n",
       "      <td>3338</td>\n",
       "      <td>1418</td>\n",
       "      <td>https://pbs.twimg.com/profile_images/429615069...</td>\n",
       "      <td>0</td>\n",
       "      <td>0</td>\n",
       "      <td>1</td>\n",
       "    </tr>\n",
       "    <tr>\n",
       "      <th>7209</th>\n",
       "      <td>0</td>\n",
       "      <td>0.474951</td>\n",
       "      <td>1</td>\n",
       "      <td>thetechscribe maybe name them after your daugh...</td>\n",
       "      <td>2020-12-08 23:41:33</td>\n",
       "      <td>1336455908650405889</td>\n",
       "      <td>3</td>\n",
       "      <td>0</td>\n",
       "      <td>en</td>\n",
       "      <td>14585205.0</td>\n",
       "      <td>...</td>\n",
       "      <td>1</td>\n",
       "      <td>30443</td>\n",
       "      <td>3643</td>\n",
       "      <td>26231</td>\n",
       "      <td>57427</td>\n",
       "      <td>1623</td>\n",
       "      <td>https://pbs.twimg.com/profile_images/968582401...</td>\n",
       "      <td>0</td>\n",
       "      <td>0</td>\n",
       "      <td>1</td>\n",
       "    </tr>\n",
       "    <tr>\n",
       "      <th>...</th>\n",
       "      <td>...</td>\n",
       "      <td>...</td>\n",
       "      <td>...</td>\n",
       "      <td>...</td>\n",
       "      <td>...</td>\n",
       "      <td>...</td>\n",
       "      <td>...</td>\n",
       "      <td>...</td>\n",
       "      <td>...</td>\n",
       "      <td>...</td>\n",
       "      <td>...</td>\n",
       "      <td>...</td>\n",
       "      <td>...</td>\n",
       "      <td>...</td>\n",
       "      <td>...</td>\n",
       "      <td>...</td>\n",
       "      <td>...</td>\n",
       "      <td>...</td>\n",
       "      <td>...</td>\n",
       "      <td>...</td>\n",
       "      <td>...</td>\n",
       "    </tr>\n",
       "    <tr>\n",
       "      <th>8785</th>\n",
       "      <td>0</td>\n",
       "      <td>0.109426</td>\n",
       "      <td>1</td>\n",
       "      <td>big data gives us more to argue about new on f...</td>\n",
       "      <td>2014-02-03 14:32:24</td>\n",
       "      <td>430348045838848001</td>\n",
       "      <td>0</td>\n",
       "      <td>1</td>\n",
       "      <td>en</td>\n",
       "      <td>NaN</td>\n",
       "      <td>...</td>\n",
       "      <td>0</td>\n",
       "      <td>3656</td>\n",
       "      <td>65</td>\n",
       "      <td>7</td>\n",
       "      <td>1716</td>\n",
       "      <td>326</td>\n",
       "      <td>https://pbs.twimg.com/profile_images/18056932/...</td>\n",
       "      <td>0</td>\n",
       "      <td>0</td>\n",
       "      <td>1</td>\n",
       "    </tr>\n",
       "    <tr>\n",
       "      <th>121</th>\n",
       "      <td>0</td>\n",
       "      <td>0.492345</td>\n",
       "      <td>1</td>\n",
       "      <td>disney has plans for 10 marvel shows and 10 st...</td>\n",
       "      <td>2020-12-10 22:58:03</td>\n",
       "      <td>1337169739446153217</td>\n",
       "      <td>53</td>\n",
       "      <td>11</td>\n",
       "      <td>en</td>\n",
       "      <td>NaN</td>\n",
       "      <td>...</td>\n",
       "      <td>1</td>\n",
       "      <td>10142289</td>\n",
       "      <td>962</td>\n",
       "      <td>5858</td>\n",
       "      <td>219108</td>\n",
       "      <td>108622</td>\n",
       "      <td>https://pbs.twimg.com/profile_images/109606660...</td>\n",
       "      <td>0</td>\n",
       "      <td>0</td>\n",
       "      <td>1</td>\n",
       "    </tr>\n",
       "    <tr>\n",
       "      <th>3851</th>\n",
       "      <td>0</td>\n",
       "      <td>0.311023</td>\n",
       "      <td>1</td>\n",
       "      <td>amywebb mcbill antpruitt karstenbondy you may ...</td>\n",
       "      <td>2020-10-02 19:02:54</td>\n",
       "      <td>1312105796944101378</td>\n",
       "      <td>31</td>\n",
       "      <td>4</td>\n",
       "      <td>en</td>\n",
       "      <td>9500242.0</td>\n",
       "      <td>...</td>\n",
       "      <td>1</td>\n",
       "      <td>539892</td>\n",
       "      <td>3040</td>\n",
       "      <td>829</td>\n",
       "      <td>7797</td>\n",
       "      <td>21218</td>\n",
       "      <td>https://pbs.twimg.com/profile_images/128420984...</td>\n",
       "      <td>0</td>\n",
       "      <td>0</td>\n",
       "      <td>1</td>\n",
       "    </tr>\n",
       "    <tr>\n",
       "      <th>16274</th>\n",
       "      <td>1</td>\n",
       "      <td>0.669109</td>\n",
       "      <td>0</td>\n",
       "      <td>stop trying to persuade your racist friends an...</td>\n",
       "      <td>2020-12-08 11:34:03</td>\n",
       "      <td>1336272827318587392</td>\n",
       "      <td>0</td>\n",
       "      <td>0</td>\n",
       "      <td>en</td>\n",
       "      <td>NaN</td>\n",
       "      <td>...</td>\n",
       "      <td>0</td>\n",
       "      <td>535</td>\n",
       "      <td>0</td>\n",
       "      <td>0</td>\n",
       "      <td>207923</td>\n",
       "      <td>93</td>\n",
       "      <td>https://pbs.twimg.com/profile_images/205603296...</td>\n",
       "      <td>0</td>\n",
       "      <td>0</td>\n",
       "      <td>0</td>\n",
       "    </tr>\n",
       "    <tr>\n",
       "      <th>5464</th>\n",
       "      <td>0</td>\n",
       "      <td>0.289579</td>\n",
       "      <td>1</td>\n",
       "      <td>we shouldnt lose sight of the fact that compan...</td>\n",
       "      <td>2020-12-01 20:16:28</td>\n",
       "      <td>1333867583557169153</td>\n",
       "      <td>1</td>\n",
       "      <td>0</td>\n",
       "      <td>en</td>\n",
       "      <td>16296057.0</td>\n",
       "      <td>...</td>\n",
       "      <td>1</td>\n",
       "      <td>18976</td>\n",
       "      <td>7840</td>\n",
       "      <td>39323</td>\n",
       "      <td>24816</td>\n",
       "      <td>1133</td>\n",
       "      <td>https://pbs.twimg.com/profile_images/474704403...</td>\n",
       "      <td>0</td>\n",
       "      <td>0</td>\n",
       "      <td>1</td>\n",
       "    </tr>\n",
       "  </tbody>\n",
       "</table>\n",
       "<p>643 rows × 27 columns</p>\n",
       "</div>"
      ],
      "text/plain": [
       "       prediction  probability  true_label  \\\n",
       "21057           1     0.932479           0   \n",
       "13380           1     0.709821           0   \n",
       "151             0     0.298704           1   \n",
       "4306            0     0.453197           1   \n",
       "7209            0     0.474951           1   \n",
       "...           ...          ...         ...   \n",
       "8785            0     0.109426           1   \n",
       "121             0     0.492345           1   \n",
       "3851            0     0.311023           1   \n",
       "16274           1     0.669109           0   \n",
       "5464            0     0.289579           1   \n",
       "\n",
       "                                               full_text           created_at  \\\n",
       "21057  i couldnt read the content but i love the head...  2021-01-20 23:22:34   \n",
       "13380  election interference twitter lets ga runoff d...  2020-12-10 21:26:45   \n",
       "151    with another 25 million in funding julia colli...  2020-12-10 14:01:18   \n",
       "4306   in 2 years everyone who is 16 and 17 will be a...  2018-11-07 20:58:08   \n",
       "7209   thetechscribe maybe name them after your daugh...  2020-12-08 23:41:33   \n",
       "...                                                  ...                  ...   \n",
       "8785   big data gives us more to argue about new on f...  2014-02-03 14:32:24   \n",
       "121    disney has plans for 10 marvel shows and 10 st...  2020-12-10 22:58:03   \n",
       "3851   amywebb mcbill antpruitt karstenbondy you may ...  2020-10-02 19:02:54   \n",
       "16274  stop trying to persuade your racist friends an...  2020-12-08 11:34:03   \n",
       "5464   we shouldnt lose sight of the fact that compan...  2020-12-01 20:16:28   \n",
       "\n",
       "                  tweet_id  tweet_favourite  tweet_retweet tweet_lang  \\\n",
       "21057  1352033808204218369               27              1         en   \n",
       "13380  1337146760846848002                1              1         en   \n",
       "151    1337034658291310593               15              5         en   \n",
       "4306   1060275229921079296               17              1         en   \n",
       "7209   1336455908650405889                3              0         en   \n",
       "...                    ...              ...            ...        ...   \n",
       "8785    430348045838848001                0              1         en   \n",
       "121    1337169739446153217               53             11         en   \n",
       "3851   1312105796944101378               31              4         en   \n",
       "16274  1336272827318587392                0              0         en   \n",
       "5464   1333867583557169153                1              0         en   \n",
       "\n",
       "       tweet_in_reply  ...  user_verified user_follower user_friend  \\\n",
       "21057             NaN  ...              0         11597          63   \n",
       "13380             NaN  ...              0         27033       13057   \n",
       "151               NaN  ...              1      10142289         962   \n",
       "4306              NaN  ...              1         17394        1081   \n",
       "7209       14585205.0  ...              1         30443        3643   \n",
       "...               ...  ...            ...           ...         ...   \n",
       "8785              NaN  ...              0          3656          65   \n",
       "121               NaN  ...              1      10142289         962   \n",
       "3851        9500242.0  ...              1        539892        3040   \n",
       "16274             NaN  ...              0           535           0   \n",
       "5464       16296057.0  ...              1         18976        7840   \n",
       "\n",
       "       user_favourite user_status user_listed  \\\n",
       "21057           12237       17441         255   \n",
       "13380           11494      605315         356   \n",
       "151              5858      219108      108622   \n",
       "4306              135        3338        1418   \n",
       "7209            26231       57427        1623   \n",
       "...               ...         ...         ...   \n",
       "8785                7        1716         326   \n",
       "121              5858      219108      108622   \n",
       "3851              829        7797       21218   \n",
       "16274               0      207923          93   \n",
       "5464            39323       24816        1133   \n",
       "\n",
       "                                  user_profile_image_url  \\\n",
       "21057  https://pbs.twimg.com/profile_images/352604013...   \n",
       "13380  https://pbs.twimg.com/profile_images/776457176...   \n",
       "151    https://pbs.twimg.com/profile_images/109606660...   \n",
       "4306   https://pbs.twimg.com/profile_images/429615069...   \n",
       "7209   https://pbs.twimg.com/profile_images/968582401...   \n",
       "...                                                  ...   \n",
       "8785   https://pbs.twimg.com/profile_images/18056932/...   \n",
       "121    https://pbs.twimg.com/profile_images/109606660...   \n",
       "3851   https://pbs.twimg.com/profile_images/128420984...   \n",
       "16274  https://pbs.twimg.com/profile_images/205603296...   \n",
       "5464   https://pbs.twimg.com/profile_images/474704403...   \n",
       "\n",
       "       user_default_profile  user_default_profile_image  expert  \n",
       "21057                     0                           0       0  \n",
       "13380                     0                           0       0  \n",
       "151                       0                           0       1  \n",
       "4306                      0                           0       1  \n",
       "7209                      0                           0       1  \n",
       "...                     ...                         ...     ...  \n",
       "8785                      0                           0       1  \n",
       "121                       0                           0       1  \n",
       "3851                      0                           0       1  \n",
       "16274                     0                           0       0  \n",
       "5464                      0                           0       1  \n",
       "\n",
       "[643 rows x 27 columns]"
      ]
     },
     "execution_count": 415,
     "metadata": {},
     "output_type": "execute_result"
    }
   ],
   "source": [
    "wrongly_classified"
   ]
  },
  {
   "cell_type": "code",
   "execution_count": 420,
   "metadata": {
    "ExecuteTime": {
     "end_time": "2021-01-29T15:53:09.877063Z",
     "start_time": "2021-01-29T15:53:09.813976Z"
    }
   },
   "outputs": [
    {
     "data": {
      "text/html": [
       "<div>\n",
       "<style scoped>\n",
       "    .dataframe tbody tr th:only-of-type {\n",
       "        vertical-align: middle;\n",
       "    }\n",
       "\n",
       "    .dataframe tbody tr th {\n",
       "        vertical-align: top;\n",
       "    }\n",
       "\n",
       "    .dataframe thead th {\n",
       "        text-align: right;\n",
       "    }\n",
       "</style>\n",
       "<table border=\"1\" class=\"dataframe\">\n",
       "  <thead>\n",
       "    <tr style=\"text-align: right;\">\n",
       "      <th></th>\n",
       "      <th>prediction</th>\n",
       "      <th>probability</th>\n",
       "      <th>true_label</th>\n",
       "      <th>full_text</th>\n",
       "      <th>created_at</th>\n",
       "      <th>tweet_id</th>\n",
       "      <th>tweet_favourite</th>\n",
       "      <th>tweet_retweet</th>\n",
       "      <th>tweet_lang</th>\n",
       "      <th>tweet_in_reply</th>\n",
       "      <th>...</th>\n",
       "      <th>user_verified</th>\n",
       "      <th>user_follower</th>\n",
       "      <th>user_friend</th>\n",
       "      <th>user_favourite</th>\n",
       "      <th>user_status</th>\n",
       "      <th>user_listed</th>\n",
       "      <th>user_profile_image_url</th>\n",
       "      <th>user_default_profile</th>\n",
       "      <th>user_default_profile_image</th>\n",
       "      <th>expert</th>\n",
       "    </tr>\n",
       "  </thead>\n",
       "  <tbody>\n",
       "    <tr>\n",
       "      <th>20055</th>\n",
       "      <td>0</td>\n",
       "      <td>0.455593</td>\n",
       "      <td>0</td>\n",
       "      <td>the underlying concepts of the magical decentr...</td>\n",
       "      <td>2021-01-21 23:53:52</td>\n",
       "      <td>1352404076361703424</td>\n",
       "      <td>1</td>\n",
       "      <td>0</td>\n",
       "      <td>en</td>\n",
       "      <td>3.410754e+08</td>\n",
       "      <td>...</td>\n",
       "      <td>0</td>\n",
       "      <td>4927</td>\n",
       "      <td>802</td>\n",
       "      <td>6324</td>\n",
       "      <td>4000</td>\n",
       "      <td>226</td>\n",
       "      <td>https://pbs.twimg.com/profile_images/948389926...</td>\n",
       "      <td>0</td>\n",
       "      <td>0</td>\n",
       "      <td>0</td>\n",
       "    </tr>\n",
       "    <tr>\n",
       "      <th>6110</th>\n",
       "      <td>1</td>\n",
       "      <td>0.511199</td>\n",
       "      <td>1</td>\n",
       "      <td>yes disability studies should be a required co...</td>\n",
       "      <td>2020-07-17 19:34:24</td>\n",
       "      <td>1284209858762375172</td>\n",
       "      <td>3</td>\n",
       "      <td>0</td>\n",
       "      <td>en</td>\n",
       "      <td>NaN</td>\n",
       "      <td>...</td>\n",
       "      <td>0</td>\n",
       "      <td>15440</td>\n",
       "      <td>1047</td>\n",
       "      <td>705</td>\n",
       "      <td>4622</td>\n",
       "      <td>795</td>\n",
       "      <td>https://pbs.twimg.com/profile_images/291104071...</td>\n",
       "      <td>0</td>\n",
       "      <td>0</td>\n",
       "      <td>1</td>\n",
       "    </tr>\n",
       "    <tr>\n",
       "      <th>5202</th>\n",
       "      <td>1</td>\n",
       "      <td>0.571028</td>\n",
       "      <td>1</td>\n",
       "      <td>✋ httpstcoun3qg91qdo</td>\n",
       "      <td>2020-11-27 13:06:04</td>\n",
       "      <td>1332309718002528260</td>\n",
       "      <td>196</td>\n",
       "      <td>21</td>\n",
       "      <td>und</td>\n",
       "      <td>NaN</td>\n",
       "      <td>...</td>\n",
       "      <td>1</td>\n",
       "      <td>863881</td>\n",
       "      <td>1398</td>\n",
       "      <td>53334</td>\n",
       "      <td>27311</td>\n",
       "      <td>18098</td>\n",
       "      <td>https://pbs.twimg.com/profile_images/127598270...</td>\n",
       "      <td>0</td>\n",
       "      <td>0</td>\n",
       "      <td>1</td>\n",
       "    </tr>\n",
       "    <tr>\n",
       "      <th>5893</th>\n",
       "      <td>1</td>\n",
       "      <td>0.571028</td>\n",
       "      <td>1</td>\n",
       "      <td>btbdstarwars httpstcotp09ggvfez</td>\n",
       "      <td>2020-12-08 20:03:18</td>\n",
       "      <td>1336400985699147778</td>\n",
       "      <td>1</td>\n",
       "      <td>0</td>\n",
       "      <td>und</td>\n",
       "      <td>8.592586e+17</td>\n",
       "      <td>...</td>\n",
       "      <td>1</td>\n",
       "      <td>115274</td>\n",
       "      <td>3105</td>\n",
       "      <td>359</td>\n",
       "      <td>152153</td>\n",
       "      <td>8214</td>\n",
       "      <td>https://pbs.twimg.com/profile_images/133532218...</td>\n",
       "      <td>0</td>\n",
       "      <td>0</td>\n",
       "      <td>1</td>\n",
       "    </tr>\n",
       "    <tr>\n",
       "      <th>4306</th>\n",
       "      <td>0</td>\n",
       "      <td>0.453197</td>\n",
       "      <td>1</td>\n",
       "      <td>in 2 years everyone who is 16 and 17 will be a...</td>\n",
       "      <td>2018-11-07 20:58:08</td>\n",
       "      <td>1060275229921079296</td>\n",
       "      <td>17</td>\n",
       "      <td>1</td>\n",
       "      <td>en</td>\n",
       "      <td>NaN</td>\n",
       "      <td>...</td>\n",
       "      <td>1</td>\n",
       "      <td>17394</td>\n",
       "      <td>1081</td>\n",
       "      <td>135</td>\n",
       "      <td>3338</td>\n",
       "      <td>1418</td>\n",
       "      <td>https://pbs.twimg.com/profile_images/429615069...</td>\n",
       "      <td>0</td>\n",
       "      <td>0</td>\n",
       "      <td>1</td>\n",
       "    </tr>\n",
       "    <tr>\n",
       "      <th>...</th>\n",
       "      <td>...</td>\n",
       "      <td>...</td>\n",
       "      <td>...</td>\n",
       "      <td>...</td>\n",
       "      <td>...</td>\n",
       "      <td>...</td>\n",
       "      <td>...</td>\n",
       "      <td>...</td>\n",
       "      <td>...</td>\n",
       "      <td>...</td>\n",
       "      <td>...</td>\n",
       "      <td>...</td>\n",
       "      <td>...</td>\n",
       "      <td>...</td>\n",
       "      <td>...</td>\n",
       "      <td>...</td>\n",
       "      <td>...</td>\n",
       "      <td>...</td>\n",
       "      <td>...</td>\n",
       "      <td>...</td>\n",
       "      <td>...</td>\n",
       "    </tr>\n",
       "    <tr>\n",
       "      <th>17474</th>\n",
       "      <td>1</td>\n",
       "      <td>0.571028</td>\n",
       "      <td>0</td>\n",
       "      <td>rrana03 🙋🏽‍♀️khoslaventures httpstcozov1dih5gh</td>\n",
       "      <td>2020-12-07 05:15:48</td>\n",
       "      <td>1335815251871219713</td>\n",
       "      <td>3</td>\n",
       "      <td>0</td>\n",
       "      <td>und</td>\n",
       "      <td>1.213878e+18</td>\n",
       "      <td>...</td>\n",
       "      <td>0</td>\n",
       "      <td>1180</td>\n",
       "      <td>671</td>\n",
       "      <td>8138</td>\n",
       "      <td>1117</td>\n",
       "      <td>48</td>\n",
       "      <td>https://pbs.twimg.com/profile_images/720712561...</td>\n",
       "      <td>0</td>\n",
       "      <td>0</td>\n",
       "      <td>0</td>\n",
       "    </tr>\n",
       "    <tr>\n",
       "      <th>14312</th>\n",
       "      <td>1</td>\n",
       "      <td>0.557039</td>\n",
       "      <td>0</td>\n",
       "      <td>speaking of enduserfocused service mesh conten...</td>\n",
       "      <td>2020-12-10 00:33:37</td>\n",
       "      <td>1336831400423665664</td>\n",
       "      <td>9</td>\n",
       "      <td>3</td>\n",
       "      <td>en</td>\n",
       "      <td>NaN</td>\n",
       "      <td>...</td>\n",
       "      <td>0</td>\n",
       "      <td>7134</td>\n",
       "      <td>992</td>\n",
       "      <td>12817</td>\n",
       "      <td>12294</td>\n",
       "      <td>181</td>\n",
       "      <td>https://pbs.twimg.com/profile_images/108083759...</td>\n",
       "      <td>0</td>\n",
       "      <td>0</td>\n",
       "      <td>0</td>\n",
       "    </tr>\n",
       "    <tr>\n",
       "      <th>5482</th>\n",
       "      <td>0</td>\n",
       "      <td>0.405037</td>\n",
       "      <td>1</td>\n",
       "      <td>“in a 2017 presentation mckinsey laid out seve...</td>\n",
       "      <td>2020-11-28 23:37:26</td>\n",
       "      <td>1332830993724493824</td>\n",
       "      <td>0</td>\n",
       "      <td>0</td>\n",
       "      <td>en</td>\n",
       "      <td>NaN</td>\n",
       "      <td>...</td>\n",
       "      <td>1</td>\n",
       "      <td>18976</td>\n",
       "      <td>7840</td>\n",
       "      <td>39323</td>\n",
       "      <td>24816</td>\n",
       "      <td>1133</td>\n",
       "      <td>https://pbs.twimg.com/profile_images/474704403...</td>\n",
       "      <td>0</td>\n",
       "      <td>0</td>\n",
       "      <td>1</td>\n",
       "    </tr>\n",
       "    <tr>\n",
       "      <th>121</th>\n",
       "      <td>0</td>\n",
       "      <td>0.492345</td>\n",
       "      <td>1</td>\n",
       "      <td>disney has plans for 10 marvel shows and 10 st...</td>\n",
       "      <td>2020-12-10 22:58:03</td>\n",
       "      <td>1337169739446153217</td>\n",
       "      <td>53</td>\n",
       "      <td>11</td>\n",
       "      <td>en</td>\n",
       "      <td>NaN</td>\n",
       "      <td>...</td>\n",
       "      <td>1</td>\n",
       "      <td>10142289</td>\n",
       "      <td>962</td>\n",
       "      <td>5858</td>\n",
       "      <td>219108</td>\n",
       "      <td>108622</td>\n",
       "      <td>https://pbs.twimg.com/profile_images/109606660...</td>\n",
       "      <td>0</td>\n",
       "      <td>0</td>\n",
       "      <td>1</td>\n",
       "    </tr>\n",
       "    <tr>\n",
       "      <th>22129</th>\n",
       "      <td>0</td>\n",
       "      <td>0.461348</td>\n",
       "      <td>0</td>\n",
       "      <td>folks im looking forward to diversifying the t...</td>\n",
       "      <td>2021-01-19 20:21:08</td>\n",
       "      <td>1351625764618326018</td>\n",
       "      <td>12</td>\n",
       "      <td>3</td>\n",
       "      <td>en</td>\n",
       "      <td>NaN</td>\n",
       "      <td>...</td>\n",
       "      <td>0</td>\n",
       "      <td>918</td>\n",
       "      <td>456</td>\n",
       "      <td>9023</td>\n",
       "      <td>14646</td>\n",
       "      <td>110</td>\n",
       "      <td>https://pbs.twimg.com/profile_images/134483466...</td>\n",
       "      <td>0</td>\n",
       "      <td>0</td>\n",
       "      <td>0</td>\n",
       "    </tr>\n",
       "  </tbody>\n",
       "</table>\n",
       "<p>503 rows × 27 columns</p>\n",
       "</div>"
      ],
      "text/plain": [
       "       prediction  probability  true_label  \\\n",
       "20055           0     0.455593           0   \n",
       "6110            1     0.511199           1   \n",
       "5202            1     0.571028           1   \n",
       "5893            1     0.571028           1   \n",
       "4306            0     0.453197           1   \n",
       "...           ...          ...         ...   \n",
       "17474           1     0.571028           0   \n",
       "14312           1     0.557039           0   \n",
       "5482            0     0.405037           1   \n",
       "121             0     0.492345           1   \n",
       "22129           0     0.461348           0   \n",
       "\n",
       "                                               full_text           created_at  \\\n",
       "20055  the underlying concepts of the magical decentr...  2021-01-21 23:53:52   \n",
       "6110   yes disability studies should be a required co...  2020-07-17 19:34:24   \n",
       "5202                                ✋ httpstcoun3qg91qdo  2020-11-27 13:06:04   \n",
       "5893                     btbdstarwars httpstcotp09ggvfez  2020-12-08 20:03:18   \n",
       "4306   in 2 years everyone who is 16 and 17 will be a...  2018-11-07 20:58:08   \n",
       "...                                                  ...                  ...   \n",
       "17474     rrana03 🙋🏽‍♀️khoslaventures httpstcozov1dih5gh  2020-12-07 05:15:48   \n",
       "14312  speaking of enduserfocused service mesh conten...  2020-12-10 00:33:37   \n",
       "5482   “in a 2017 presentation mckinsey laid out seve...  2020-11-28 23:37:26   \n",
       "121    disney has plans for 10 marvel shows and 10 st...  2020-12-10 22:58:03   \n",
       "22129  folks im looking forward to diversifying the t...  2021-01-19 20:21:08   \n",
       "\n",
       "                  tweet_id  tweet_favourite  tweet_retweet tweet_lang  \\\n",
       "20055  1352404076361703424                1              0         en   \n",
       "6110   1284209858762375172                3              0         en   \n",
       "5202   1332309718002528260              196             21        und   \n",
       "5893   1336400985699147778                1              0        und   \n",
       "4306   1060275229921079296               17              1         en   \n",
       "...                    ...              ...            ...        ...   \n",
       "17474  1335815251871219713                3              0        und   \n",
       "14312  1336831400423665664                9              3         en   \n",
       "5482   1332830993724493824                0              0         en   \n",
       "121    1337169739446153217               53             11         en   \n",
       "22129  1351625764618326018               12              3         en   \n",
       "\n",
       "       tweet_in_reply  ...  user_verified user_follower user_friend  \\\n",
       "20055    3.410754e+08  ...              0          4927         802   \n",
       "6110              NaN  ...              0         15440        1047   \n",
       "5202              NaN  ...              1        863881        1398   \n",
       "5893     8.592586e+17  ...              1        115274        3105   \n",
       "4306              NaN  ...              1         17394        1081   \n",
       "...               ...  ...            ...           ...         ...   \n",
       "17474    1.213878e+18  ...              0          1180         671   \n",
       "14312             NaN  ...              0          7134         992   \n",
       "5482              NaN  ...              1         18976        7840   \n",
       "121               NaN  ...              1      10142289         962   \n",
       "22129             NaN  ...              0           918         456   \n",
       "\n",
       "       user_favourite user_status user_listed  \\\n",
       "20055            6324        4000         226   \n",
       "6110              705        4622         795   \n",
       "5202            53334       27311       18098   \n",
       "5893              359      152153        8214   \n",
       "4306              135        3338        1418   \n",
       "...               ...         ...         ...   \n",
       "17474            8138        1117          48   \n",
       "14312           12817       12294         181   \n",
       "5482            39323       24816        1133   \n",
       "121              5858      219108      108622   \n",
       "22129            9023       14646         110   \n",
       "\n",
       "                                  user_profile_image_url  \\\n",
       "20055  https://pbs.twimg.com/profile_images/948389926...   \n",
       "6110   https://pbs.twimg.com/profile_images/291104071...   \n",
       "5202   https://pbs.twimg.com/profile_images/127598270...   \n",
       "5893   https://pbs.twimg.com/profile_images/133532218...   \n",
       "4306   https://pbs.twimg.com/profile_images/429615069...   \n",
       "...                                                  ...   \n",
       "17474  https://pbs.twimg.com/profile_images/720712561...   \n",
       "14312  https://pbs.twimg.com/profile_images/108083759...   \n",
       "5482   https://pbs.twimg.com/profile_images/474704403...   \n",
       "121    https://pbs.twimg.com/profile_images/109606660...   \n",
       "22129  https://pbs.twimg.com/profile_images/134483466...   \n",
       "\n",
       "       user_default_profile  user_default_profile_image  expert  \n",
       "20055                     0                           0       0  \n",
       "6110                      0                           0       1  \n",
       "5202                      0                           0       1  \n",
       "5893                      0                           0       1  \n",
       "4306                      0                           0       1  \n",
       "...                     ...                         ...     ...  \n",
       "17474                     0                           0       0  \n",
       "14312                     0                           0       0  \n",
       "5482                      0                           0       1  \n",
       "121                       0                           0       1  \n",
       "22129                     0                           0       0  \n",
       "\n",
       "[503 rows x 27 columns]"
      ]
     },
     "execution_count": 420,
     "metadata": {},
     "output_type": "execute_result"
    }
   ],
   "source": [
    "results[(results['probability'] > 0.4) & (results['probability'] < 0.6)]"
   ]
  },
  {
   "cell_type": "code",
   "execution_count": 418,
   "metadata": {
    "ExecuteTime": {
     "end_time": "2021-01-29T15:52:48.437150Z",
     "start_time": "2021-01-29T15:52:48.358689Z"
    },
    "scrolled": false
   },
   "outputs": [
    {
     "data": {
      "text/html": [
       "<div>\n",
       "<style scoped>\n",
       "    .dataframe tbody tr th:only-of-type {\n",
       "        vertical-align: middle;\n",
       "    }\n",
       "\n",
       "    .dataframe tbody tr th {\n",
       "        vertical-align: top;\n",
       "    }\n",
       "\n",
       "    .dataframe thead th {\n",
       "        text-align: right;\n",
       "    }\n",
       "</style>\n",
       "<table border=\"1\" class=\"dataframe\">\n",
       "  <thead>\n",
       "    <tr style=\"text-align: right;\">\n",
       "      <th></th>\n",
       "      <th>prediction</th>\n",
       "      <th>probability</th>\n",
       "      <th>true_label</th>\n",
       "      <th>full_text</th>\n",
       "      <th>created_at</th>\n",
       "      <th>tweet_id</th>\n",
       "      <th>tweet_favourite</th>\n",
       "      <th>tweet_retweet</th>\n",
       "      <th>tweet_lang</th>\n",
       "      <th>tweet_in_reply</th>\n",
       "      <th>...</th>\n",
       "      <th>user_verified</th>\n",
       "      <th>user_follower</th>\n",
       "      <th>user_friend</th>\n",
       "      <th>user_favourite</th>\n",
       "      <th>user_status</th>\n",
       "      <th>user_listed</th>\n",
       "      <th>user_profile_image_url</th>\n",
       "      <th>user_default_profile</th>\n",
       "      <th>user_default_profile_image</th>\n",
       "      <th>expert</th>\n",
       "    </tr>\n",
       "  </thead>\n",
       "  <tbody>\n",
       "    <tr>\n",
       "      <th>19424</th>\n",
       "      <td>0</td>\n",
       "      <td>0.009018</td>\n",
       "      <td>0</td>\n",
       "      <td>apple’s watchos 72 is out offers new health an...</td>\n",
       "      <td>2020-12-15 21:18:02</td>\n",
       "      <td>1338956506184630272</td>\n",
       "      <td>0</td>\n",
       "      <td>1</td>\n",
       "      <td>en</td>\n",
       "      <td>NaN</td>\n",
       "      <td>...</td>\n",
       "      <td>0</td>\n",
       "      <td>6701</td>\n",
       "      <td>203</td>\n",
       "      <td>1157</td>\n",
       "      <td>29452</td>\n",
       "      <td>1</td>\n",
       "      <td>https://pbs.twimg.com/profile_images/132714173...</td>\n",
       "      <td>0</td>\n",
       "      <td>0</td>\n",
       "      <td>0</td>\n",
       "    </tr>\n",
       "    <tr>\n",
       "      <th>21057</th>\n",
       "      <td>1</td>\n",
       "      <td>0.932479</td>\n",
       "      <td>0</td>\n",
       "      <td>i couldnt read the content but i love the head...</td>\n",
       "      <td>2021-01-20 23:22:34</td>\n",
       "      <td>1352033808204218369</td>\n",
       "      <td>27</td>\n",
       "      <td>1</td>\n",
       "      <td>en</td>\n",
       "      <td>NaN</td>\n",
       "      <td>...</td>\n",
       "      <td>0</td>\n",
       "      <td>11597</td>\n",
       "      <td>63</td>\n",
       "      <td>12237</td>\n",
       "      <td>17441</td>\n",
       "      <td>255</td>\n",
       "      <td>https://pbs.twimg.com/profile_images/352604013...</td>\n",
       "      <td>0</td>\n",
       "      <td>0</td>\n",
       "      <td>0</td>\n",
       "    </tr>\n",
       "    <tr>\n",
       "      <th>2805</th>\n",
       "      <td>1</td>\n",
       "      <td>0.973491</td>\n",
       "      <td>1</td>\n",
       "      <td>rt benioff wow new zealand 0 deaths per 1 mill...</td>\n",
       "      <td>2020-05-15 05:33:58</td>\n",
       "      <td>1261167919494356993</td>\n",
       "      <td>0</td>\n",
       "      <td>131</td>\n",
       "      <td>en</td>\n",
       "      <td>NaN</td>\n",
       "      <td>...</td>\n",
       "      <td>0</td>\n",
       "      <td>16062</td>\n",
       "      <td>736</td>\n",
       "      <td>132</td>\n",
       "      <td>10118</td>\n",
       "      <td>1226</td>\n",
       "      <td>https://pbs.twimg.com/profile_images/99010840/...</td>\n",
       "      <td>0</td>\n",
       "      <td>0</td>\n",
       "      <td>1</td>\n",
       "    </tr>\n",
       "    <tr>\n",
       "      <th>20723</th>\n",
       "      <td>0</td>\n",
       "      <td>0.002739</td>\n",
       "      <td>0</td>\n",
       "      <td>online child sex abuse spiked by 31 in 2020 wi...</td>\n",
       "      <td>2021-01-21 10:35:01</td>\n",
       "      <td>1352203038874759168</td>\n",
       "      <td>0</td>\n",
       "      <td>0</td>\n",
       "      <td>en</td>\n",
       "      <td>NaN</td>\n",
       "      <td>...</td>\n",
       "      <td>0</td>\n",
       "      <td>92</td>\n",
       "      <td>0</td>\n",
       "      <td>0</td>\n",
       "      <td>56495</td>\n",
       "      <td>27</td>\n",
       "      <td>https://pbs.twimg.com/profile_images/190787573...</td>\n",
       "      <td>1</td>\n",
       "      <td>0</td>\n",
       "      <td>0</td>\n",
       "    </tr>\n",
       "    <tr>\n",
       "      <th>14328</th>\n",
       "      <td>0</td>\n",
       "      <td>0.007288</td>\n",
       "      <td>0</td>\n",
       "      <td>wffhq i like to be detailed on this  make an e...</td>\n",
       "      <td>2020-12-10 00:27:03</td>\n",
       "      <td>1336829748266209280</td>\n",
       "      <td>2</td>\n",
       "      <td>1</td>\n",
       "      <td>en</td>\n",
       "      <td>38504863.0</td>\n",
       "      <td>...</td>\n",
       "      <td>0</td>\n",
       "      <td>557</td>\n",
       "      <td>1695</td>\n",
       "      <td>7973</td>\n",
       "      <td>20372</td>\n",
       "      <td>301</td>\n",
       "      <td>https://pbs.twimg.com/profile_images/108706076...</td>\n",
       "      <td>0</td>\n",
       "      <td>0</td>\n",
       "      <td>0</td>\n",
       "    </tr>\n",
       "    <tr>\n",
       "      <th>...</th>\n",
       "      <td>...</td>\n",
       "      <td>...</td>\n",
       "      <td>...</td>\n",
       "      <td>...</td>\n",
       "      <td>...</td>\n",
       "      <td>...</td>\n",
       "      <td>...</td>\n",
       "      <td>...</td>\n",
       "      <td>...</td>\n",
       "      <td>...</td>\n",
       "      <td>...</td>\n",
       "      <td>...</td>\n",
       "      <td>...</td>\n",
       "      <td>...</td>\n",
       "      <td>...</td>\n",
       "      <td>...</td>\n",
       "      <td>...</td>\n",
       "      <td>...</td>\n",
       "      <td>...</td>\n",
       "      <td>...</td>\n",
       "      <td>...</td>\n",
       "    </tr>\n",
       "    <tr>\n",
       "      <th>21828</th>\n",
       "      <td>0</td>\n",
       "      <td>0.003119</td>\n",
       "      <td>0</td>\n",
       "      <td>india asks whatsapp to withdraw new privacy po...</td>\n",
       "      <td>2021-01-20 02:55:00</td>\n",
       "      <td>1351724881415729152</td>\n",
       "      <td>0</td>\n",
       "      <td>0</td>\n",
       "      <td>en</td>\n",
       "      <td>NaN</td>\n",
       "      <td>...</td>\n",
       "      <td>0</td>\n",
       "      <td>4960</td>\n",
       "      <td>890</td>\n",
       "      <td>4485</td>\n",
       "      <td>43724</td>\n",
       "      <td>1501</td>\n",
       "      <td>https://pbs.twimg.com/profile_images/122172373...</td>\n",
       "      <td>0</td>\n",
       "      <td>0</td>\n",
       "      <td>0</td>\n",
       "    </tr>\n",
       "    <tr>\n",
       "      <th>10881</th>\n",
       "      <td>0</td>\n",
       "      <td>0.006422</td>\n",
       "      <td>0</td>\n",
       "      <td>a texas evangelist leader has more guts in cal...</td>\n",
       "      <td>2020-12-13 20:28:59</td>\n",
       "      <td>1338219387451392001</td>\n",
       "      <td>4</td>\n",
       "      <td>1</td>\n",
       "      <td>en</td>\n",
       "      <td>NaN</td>\n",
       "      <td>...</td>\n",
       "      <td>1</td>\n",
       "      <td>8746</td>\n",
       "      <td>5504</td>\n",
       "      <td>28847</td>\n",
       "      <td>729</td>\n",
       "      <td>255</td>\n",
       "      <td>https://pbs.twimg.com/profile_images/108965736...</td>\n",
       "      <td>1</td>\n",
       "      <td>0</td>\n",
       "      <td>0</td>\n",
       "    </tr>\n",
       "    <tr>\n",
       "      <th>9325</th>\n",
       "      <td>0</td>\n",
       "      <td>0.001649</td>\n",
       "      <td>0</td>\n",
       "      <td>the eu wants new powers to oversee internal wo...</td>\n",
       "      <td>2020-12-15 15:39:39</td>\n",
       "      <td>1338871351474495488</td>\n",
       "      <td>0</td>\n",
       "      <td>0</td>\n",
       "      <td>en</td>\n",
       "      <td>NaN</td>\n",
       "      <td>...</td>\n",
       "      <td>0</td>\n",
       "      <td>133</td>\n",
       "      <td>146</td>\n",
       "      <td>185</td>\n",
       "      <td>5383</td>\n",
       "      <td>5</td>\n",
       "      <td>https://pbs.twimg.com/profile_images/482280088...</td>\n",
       "      <td>1</td>\n",
       "      <td>0</td>\n",
       "      <td>0</td>\n",
       "    </tr>\n",
       "    <tr>\n",
       "      <th>13655</th>\n",
       "      <td>0</td>\n",
       "      <td>0.003872</td>\n",
       "      <td>0</td>\n",
       "      <td>check out synopsys latest blog on scientist li...</td>\n",
       "      <td>2020-12-10 17:54:59</td>\n",
       "      <td>1337093470083801091</td>\n",
       "      <td>2</td>\n",
       "      <td>1</td>\n",
       "      <td>en</td>\n",
       "      <td>NaN</td>\n",
       "      <td>...</td>\n",
       "      <td>1</td>\n",
       "      <td>6465</td>\n",
       "      <td>6574</td>\n",
       "      <td>4707</td>\n",
       "      <td>15975</td>\n",
       "      <td>208</td>\n",
       "      <td>https://pbs.twimg.com/profile_images/121961090...</td>\n",
       "      <td>0</td>\n",
       "      <td>0</td>\n",
       "      <td>0</td>\n",
       "    </tr>\n",
       "    <tr>\n",
       "      <th>25931</th>\n",
       "      <td>0</td>\n",
       "      <td>0.011496</td>\n",
       "      <td>0</td>\n",
       "      <td>join me eladgil and briannekimmel this evening...</td>\n",
       "      <td>2021-01-15 16:49:49</td>\n",
       "      <td>1350123030370893828</td>\n",
       "      <td>133</td>\n",
       "      <td>12</td>\n",
       "      <td>en</td>\n",
       "      <td>NaN</td>\n",
       "      <td>...</td>\n",
       "      <td>1</td>\n",
       "      <td>131527</td>\n",
       "      <td>3686</td>\n",
       "      <td>53406</td>\n",
       "      <td>24737</td>\n",
       "      <td>3597</td>\n",
       "      <td>https://pbs.twimg.com/profile_images/127855403...</td>\n",
       "      <td>0</td>\n",
       "      <td>0</td>\n",
       "      <td>0</td>\n",
       "    </tr>\n",
       "  </tbody>\n",
       "</table>\n",
       "<p>3356 rows × 27 columns</p>\n",
       "</div>"
      ],
      "text/plain": [
       "       prediction  probability  true_label  \\\n",
       "19424           0     0.009018           0   \n",
       "21057           1     0.932479           0   \n",
       "2805            1     0.973491           1   \n",
       "20723           0     0.002739           0   \n",
       "14328           0     0.007288           0   \n",
       "...           ...          ...         ...   \n",
       "21828           0     0.003119           0   \n",
       "10881           0     0.006422           0   \n",
       "9325            0     0.001649           0   \n",
       "13655           0     0.003872           0   \n",
       "25931           0     0.011496           0   \n",
       "\n",
       "                                               full_text           created_at  \\\n",
       "19424  apple’s watchos 72 is out offers new health an...  2020-12-15 21:18:02   \n",
       "21057  i couldnt read the content but i love the head...  2021-01-20 23:22:34   \n",
       "2805   rt benioff wow new zealand 0 deaths per 1 mill...  2020-05-15 05:33:58   \n",
       "20723  online child sex abuse spiked by 31 in 2020 wi...  2021-01-21 10:35:01   \n",
       "14328  wffhq i like to be detailed on this  make an e...  2020-12-10 00:27:03   \n",
       "...                                                  ...                  ...   \n",
       "21828  india asks whatsapp to withdraw new privacy po...  2021-01-20 02:55:00   \n",
       "10881  a texas evangelist leader has more guts in cal...  2020-12-13 20:28:59   \n",
       "9325   the eu wants new powers to oversee internal wo...  2020-12-15 15:39:39   \n",
       "13655  check out synopsys latest blog on scientist li...  2020-12-10 17:54:59   \n",
       "25931  join me eladgil and briannekimmel this evening...  2021-01-15 16:49:49   \n",
       "\n",
       "                  tweet_id  tweet_favourite  tweet_retweet tweet_lang  \\\n",
       "19424  1338956506184630272                0              1         en   \n",
       "21057  1352033808204218369               27              1         en   \n",
       "2805   1261167919494356993                0            131         en   \n",
       "20723  1352203038874759168                0              0         en   \n",
       "14328  1336829748266209280                2              1         en   \n",
       "...                    ...              ...            ...        ...   \n",
       "21828  1351724881415729152                0              0         en   \n",
       "10881  1338219387451392001                4              1         en   \n",
       "9325   1338871351474495488                0              0         en   \n",
       "13655  1337093470083801091                2              1         en   \n",
       "25931  1350123030370893828              133             12         en   \n",
       "\n",
       "       tweet_in_reply  ...  user_verified user_follower user_friend  \\\n",
       "19424             NaN  ...              0          6701         203   \n",
       "21057             NaN  ...              0         11597          63   \n",
       "2805              NaN  ...              0         16062         736   \n",
       "20723             NaN  ...              0            92           0   \n",
       "14328      38504863.0  ...              0           557        1695   \n",
       "...               ...  ...            ...           ...         ...   \n",
       "21828             NaN  ...              0          4960         890   \n",
       "10881             NaN  ...              1          8746        5504   \n",
       "9325              NaN  ...              0           133         146   \n",
       "13655             NaN  ...              1          6465        6574   \n",
       "25931             NaN  ...              1        131527        3686   \n",
       "\n",
       "       user_favourite user_status user_listed  \\\n",
       "19424            1157       29452           1   \n",
       "21057           12237       17441         255   \n",
       "2805              132       10118        1226   \n",
       "20723               0       56495          27   \n",
       "14328            7973       20372         301   \n",
       "...               ...         ...         ...   \n",
       "21828            4485       43724        1501   \n",
       "10881           28847         729         255   \n",
       "9325              185        5383           5   \n",
       "13655            4707       15975         208   \n",
       "25931           53406       24737        3597   \n",
       "\n",
       "                                  user_profile_image_url  \\\n",
       "19424  https://pbs.twimg.com/profile_images/132714173...   \n",
       "21057  https://pbs.twimg.com/profile_images/352604013...   \n",
       "2805   https://pbs.twimg.com/profile_images/99010840/...   \n",
       "20723  https://pbs.twimg.com/profile_images/190787573...   \n",
       "14328  https://pbs.twimg.com/profile_images/108706076...   \n",
       "...                                                  ...   \n",
       "21828  https://pbs.twimg.com/profile_images/122172373...   \n",
       "10881  https://pbs.twimg.com/profile_images/108965736...   \n",
       "9325   https://pbs.twimg.com/profile_images/482280088...   \n",
       "13655  https://pbs.twimg.com/profile_images/121961090...   \n",
       "25931  https://pbs.twimg.com/profile_images/127855403...   \n",
       "\n",
       "       user_default_profile  user_default_profile_image  expert  \n",
       "19424                     0                           0       0  \n",
       "21057                     0                           0       0  \n",
       "2805                      0                           0       1  \n",
       "20723                     1                           0       0  \n",
       "14328                     0                           0       0  \n",
       "...                     ...                         ...     ...  \n",
       "21828                     0                           0       0  \n",
       "10881                     1                           0       0  \n",
       "9325                      1                           0       0  \n",
       "13655                     0                           0       0  \n",
       "25931                     0                           0       0  \n",
       "\n",
       "[3356 rows x 27 columns]"
      ]
     },
     "execution_count": 418,
     "metadata": {},
     "output_type": "execute_result"
    }
   ],
   "source": [
    "results[(results['probability'] > 0.9) | (results['probability'] < 0.1)]"
   ]
  },
  {
   "cell_type": "markdown",
   "metadata": {},
   "source": [
    "--- "
   ]
  },
  {
   "cell_type": "markdown",
   "metadata": {},
   "source": [
    "### Download totally unseen expert data and test whether the model still performs well"
   ]
  },
  {
   "cell_type": "markdown",
   "metadata": {},
   "source": [
    "*So far, we have only tested these models on the same 100 experts we scraped at the start. It is roughly 89% accurate when classifying these 100 experts vs non experts. However, does the model still perform well when tested on other tech experts not included in the original sample?*"
   ]
  },
  {
   "cell_type": "code",
   "execution_count": null,
   "metadata": {},
   "outputs": [],
   "source": [
    "#downloads experts - totally unseen experts - still eprforms well? "
   ]
  }
 ],
 "metadata": {
  "kernelspec": {
   "display_name": "tweepy_expert",
   "language": "python",
   "name": "tweepy_expert"
  },
  "language_info": {
   "codemirror_mode": {
    "name": "ipython",
    "version": 3
   },
   "file_extension": ".py",
   "mimetype": "text/x-python",
   "name": "python",
   "nbconvert_exporter": "python",
   "pygments_lexer": "ipython3",
   "version": "3.8.5"
  }
 },
 "nbformat": 4,
 "nbformat_minor": 4
}
